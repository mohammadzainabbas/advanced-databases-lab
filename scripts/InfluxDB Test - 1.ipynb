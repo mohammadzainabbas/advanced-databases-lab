{
 "cells": [
  {
   "cell_type": "code",
   "execution_count": 1,
   "id": "29f61d23-5620-4180-b1fa-ec46284e2f1b",
   "metadata": {},
   "outputs": [],
   "source": [
    "from datetime import datetime\n",
    "\n",
    "from influxdb_client import InfluxDBClient, Point, WritePrecision\n",
    "from influxdb_client.client.write_api import SYNCHRONOUS\n",
    "\n",
    "# You can generate a Token from the \"Tokens Tab\" in the UI\n",
    "token = \"RtWgHEkMiipthr5IkT1RpRed4ZXRH-9Q8YuEzZ3pdkjgelVA83D1SZ5tF9V_NY3u7W5-lAl-GuVUC3n3mS1cCQ==\"\n",
    "org = \"ulb\"\n",
    "bucket = \"advanced_db\"\n",
    "\n",
    "client = InfluxDBClient(url=\"http://localhost:8086\", token=token)"
   ]
  },
  {
   "cell_type": "code",
   "execution_count": 2,
   "id": "51d7ea3f-7e82-4716-843e-40536147f676",
   "metadata": {},
   "outputs": [
    {
     "data": {
      "text/plain": [
       "<influxdb_client.client.influxdb_client.InfluxDBClient at 0x7f983165adf0>"
      ]
     },
     "execution_count": 2,
     "metadata": {},
     "output_type": "execute_result"
    }
   ],
   "source": [
    "client"
   ]
  },
  {
   "cell_type": "code",
   "execution_count": 3,
   "id": "057ee651-02f4-4254-b77a-8041729681d9",
   "metadata": {},
   "outputs": [],
   "source": [
    "from csv import DictReader"
   ]
  },
  {
   "cell_type": "code",
   "execution_count": 4,
   "id": "d7af5b5d-fdf8-4579-9485-a3a63a4985af",
   "metadata": {},
   "outputs": [],
   "source": [
    "from os import getcwd"
   ]
  },
  {
   "cell_type": "code",
   "execution_count": 5,
   "id": "6c92d7d5-6393-48aa-9c23-d6c2d51cf921",
   "metadata": {},
   "outputs": [
    {
     "data": {
      "text/plain": [
       "'/Users/mohammadzainabbas/Masters/ULB/Advanced Databases/advanced-databases-lab/scripts'"
      ]
     },
     "execution_count": 5,
     "metadata": {},
     "output_type": "execute_result"
    }
   ],
   "source": [
    "getcwd()"
   ]
  },
  {
   "cell_type": "code",
   "execution_count": null,
   "id": "f195c869-1f09-42d2-a458-293edeabb687",
   "metadata": {},
   "outputs": [],
   "source": []
  }
 ],
 "metadata": {
  "kernelspec": {
   "display_name": "Advanced DB",
   "language": "python",
   "name": "advance_db"
  },
  "language_info": {
   "codemirror_mode": {
    "name": "ipython",
    "version": 3
   },
   "file_extension": ".py",
   "mimetype": "text/x-python",
   "name": "python",
   "nbconvert_exporter": "python",
   "pygments_lexer": "ipython3",
   "version": "3.9.7"
  }
 },
 "nbformat": 4,
 "nbformat_minor": 5
}
